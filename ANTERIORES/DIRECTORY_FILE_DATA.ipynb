{
 "cells": [
  {
   "cell_type": "markdown",
   "metadata": {},
   "source": [
    "# Notebook para contar archivos en un directorio y ordenarlos por tamaño y sacar estadísticas"
   ]
  },
  {
   "cell_type": "code",
   "execution_count": 5,
   "metadata": {},
   "outputs": [],
   "source": [
    "#Primero importamos las librerías necesarias y definimos las funciones que usaremos\n",
    "import os\n",
    "import pandas as pd\n",
    "\n",
    "#Función para convertir a MB,GB, etc.\n",
    "def convert_bytes(num):\n",
    "    for x in ['bytes', 'KB', 'MB', 'GB', 'TB']:\n",
    "        #print(x,num)\n",
    "        if num < 1024.0:\n",
    "            return \"%3.1f %s\" % (num, x)\n",
    "        num /= 1024.0\n",
    "        \n",
    "#Necesitamos definir la ruta que queremos analizar\n",
    "#path = \"F:\\DATA_TFM\\CSVs\\\\\"\n",
    "path = \"Z:\\MASTER INT. ARTIFICIAL\\TFM_DATA\\CSVs\\\\\"\n",
    "\n",
    "#Después, generamos la lista con los archivos a analizar\n",
    "arr = os.listdir(path); arr = sorted(arr)\n",
    "\n",
    "#Esta funcion obtiene los nombres de los archivo y tamaños usando series de pandas\n",
    "def gen_lista_series(path,arr):\n",
    "    columnas = [\"file\", \"size\"]\n",
    "    lista_df = pd.DataFrame(columns=columnas)\n",
    "    #Recorremos cada archivo para obtener su tamaño, convertimos a series y añadimos al DF\n",
    "    for i in range(len(arr)):\n",
    "        file = path + arr[i]; info = os.stat(file)\n",
    "        file_size = info.st_size\n",
    "        temp = [arr[i], file_size]\n",
    "        temp = pd.Series(temp,index=columnas)\n",
    "        lista_df=lista_df.append(temp,ignore_index=True)\n",
    "    return(lista_df)\n",
    "\n",
    "#Función para calcular cuantos archivos faltan y tamaño.\n",
    "def calcula_faltante(archivo,df):\n",
    "    #Buscamos el numero de indice y lo convrt. a entero\n",
    "    ind = df[df['file']==archivo].index.tolist()\n",
    "    ind = ind[0]\n",
    "    tempdf = df.iloc[ind:]\n",
    "    tempdf = tempdf['size']\n",
    "    print(\"Te faltan:\", tempdf.shape[0],\"archivos\")\n",
    "    print(\"Y eso da: \", convert_bytes(tempdf.sum()))\n",
    "    \n",
    "#Otra forma de hacerlo, usando listas y creando el df hasta el final\n",
    "#Esta forma es mucho más eficiente en tiempo (muchísimo)\n",
    "def gen_lista_lists(path,arr):\n",
    "    columnas = [\"file\", \"size\"]\n",
    "    lista_df = pd.DataFrame(columns=columnas)\n",
    "    temp = []\n",
    "    #Recorremos cada archivo para obtener su tamaño, convertimos a series y añadimos al DF\n",
    "    for i in range(len(arr)):\n",
    "        file = path + arr[i]; info = os.stat(file)\n",
    "        file_size = info.st_size\n",
    "        elem = [arr[i], file_size]\n",
    "        temp.append(elem)   \n",
    "    lista_df=pd.DataFrame(temp, columns=columnas)\n",
    "    return(lista_df)"
   ]
  },
  {
   "cell_type": "code",
   "execution_count": 13,
   "metadata": {},
   "outputs": [
    {
     "name": "stdout",
     "output_type": "stream",
     "text": [
      "Te faltan: 423 archivos\n",
      "Y eso da:  18.6 GB\n"
     ]
    }
   ],
   "source": [
    "#Calculamos cuanto falta para que termine (archivos y tamaño)\n",
    "archivo = \"MC_045780_numu_CC_a_reco.i3.csv\"\n",
    "lista_df = gen_lista_lists(path,arr)\n",
    "\n",
    "calcula_faltante(archivo,lista_df)"
   ]
  },
  {
   "cell_type": "code",
   "execution_count": 3,
   "metadata": {},
   "outputs": [
    {
     "name": "stdout",
     "output_type": "stream",
     "text": [
      "4.21 s ± 184 ms per loop (mean ± std. dev. of 7 runs, 1 loop each)\n",
      "77.3 ms ± 801 µs per loop (mean ± std. dev. of 7 runs, 10 loops each)\n"
     ]
    }
   ],
   "source": [
    "### Comparando el tiempo que tardan ambas funciones\n",
    "\n",
    "import timeit\n",
    "\n",
    "%timeit gen_lista_series(path,arr)\n",
    "\n",
    "%timeit gen_lista_lists(path,arr)\n",
    "\n",
    "###### SE PUEDE VER QUE EL UTILIZAR LISTAS Y CREAR EL DATAFRAME HASTA EL FINAL ES ORDENES DE MAGNITUD MEJOR 100 VECES"
   ]
  },
  {
   "cell_type": "code",
   "execution_count": null,
   "metadata": {},
   "outputs": [],
   "source": []
  }
 ],
 "metadata": {
  "kernelspec": {
   "display_name": "Python 3",
   "language": "python",
   "name": "python3"
  },
  "language_info": {
   "codemirror_mode": {
    "name": "ipython",
    "version": 3
   },
   "file_extension": ".py",
   "mimetype": "text/x-python",
   "name": "python",
   "nbconvert_exporter": "python",
   "pygments_lexer": "ipython3",
   "version": "3.7.3"
  }
 },
 "nbformat": 4,
 "nbformat_minor": 2
}
